{
 "cells": [
  {
   "cell_type": "code",
   "execution_count": 3,
   "id": "a0eedfe5",
   "metadata": {},
   "outputs": [
    {
     "name": "stdout",
     "output_type": "stream",
     "text": [
      "                                                      0\n",
      "0     citrus fruit,semi-finished bread,margarine,rea...\n",
      "1                          tropical fruit,yogurt,coffee\n",
      "2                                            whole milk\n",
      "3            pip fruit,yogurt,cream cheese,meat spreads\n",
      "4     other vegetables,whole milk,condensed milk,lon...\n",
      "...                                                 ...\n",
      "9830  sausage,chicken,beef,hamburger meat,citrus fru...\n",
      "9831                                  cooking chocolate\n",
      "9832  chicken,citrus fruit,other vegetables,butter,y...\n",
      "9833  semi-finished bread,bottled water,soda,bottled...\n",
      "9834  chicken,tropical fruit,other vegetables,vinega...\n",
      "\n",
      "[9835 rows x 1 columns]\n"
     ]
    }
   ],
   "source": [
    "import numpy as np\n",
    "import pandas as pd\n",
    "import matplotlib.pyplot as plt\n",
    "from apyori import apriori\n",
    "store_data = pd.read_csv(\"shop.csv\", header=None, delimiter='\\t')\n",
    "print(store_data)\n"
   ]
  },
  {
   "cell_type": "code",
   "execution_count": null,
   "id": "816a66c9",
   "metadata": {},
   "outputs": [],
   "source": [
    "\n",
    "transactions = []\n",
    "for i in range(len(store_data)):\n",
    "    transactions.append(store_data.values[i, 0].split(','))\n",
    "print(transactions)\n",
    "\n",
    "records = []\n",
    "for transaction in transactions:\n",
    "    records.append([item for item in transaction if pd.notna(item)])\n",
    "\n",
    "association_rules = apriori(records, min_support=0.003, min_confidence=0.2, min_lift=3, min_length=2)\n",
    "association_results = list(association_rules)\n",
    "\n",
    "for item in association_results:\n",
    "    pair = item[0] \n",
    "    items = [x for x in pair]\n",
    "    print(\"Rule: \" + str(items))\n",
    "\n",
    "    print(\"Support: \" + str(item[1]))\n",
    "    print(\"Confidence: \" + str(item[2][0][2]))\n",
    "    print(\"Lift: \" + str(item[2][0][3]))\n",
    "    print(\"=====================================\")\n"
   ]
  }
 ],
 "metadata": {
  "kernelspec": {
   "display_name": "Python 3 (ipykernel)",
   "language": "python",
   "name": "python3"
  },
  "language_info": {
   "codemirror_mode": {
    "name": "ipython",
    "version": 3
   },
   "file_extension": ".py",
   "mimetype": "text/x-python",
   "name": "python",
   "nbconvert_exporter": "python",
   "pygments_lexer": "ipython3",
   "version": "3.11.7"
  }
 },
 "nbformat": 4,
 "nbformat_minor": 5
}
